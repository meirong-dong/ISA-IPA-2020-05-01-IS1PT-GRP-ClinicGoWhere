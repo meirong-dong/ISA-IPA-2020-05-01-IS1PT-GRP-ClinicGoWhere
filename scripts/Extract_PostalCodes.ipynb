{
 "cells": [
  {
   "cell_type": "code",
   "execution_count": 2,
   "metadata": {},
   "outputs": [],
   "source": [
    "import requests\n",
    "import time,math,json\n",
    "import tagui as t\n",
    "import re\n",
    "from multiprocessing import Pool"
   ]
  },
  {
   "cell_type": "markdown",
   "metadata": {},
   "source": [
    "<h4> Complete Singapore Address - From One Map </h4>"
   ]
  },
  {
   "cell_type": "code",
   "execution_count": 3,
   "metadata": {},
   "outputs": [],
   "source": [
    "#adapt from https://github.com/xkjyeah/singapore-postal-codes\n",
    "def pcode_to_data(pcode):\n",
    "    if int(pcode) % 1000 == 0:\n",
    "        print(pcode)\n",
    "    \n",
    "    page = 1\n",
    "    results = []\n",
    "    \n",
    "    while True:\n",
    "        try:\n",
    "            response = requests.get('http://developers.onemap.sg/commonapi/search?searchVal={0}&returnGeom=Y&getAddrDetails=Y&pageNum={1}'\n",
    "                                    .format(pcode, page)) \\\n",
    "                               .json()\n",
    "        except requests.exceptions.ConnectionError as e:\n",
    "            print('Fetching {} failed. Retrying in 2 sec'.format(pcode))\n",
    "            \n",
    "            time.sleep(2)\n",
    "            continue\n",
    "            \n",
    "        results = results + response['results']\n",
    "    \n",
    "        if response['totalNumPages'] > page:\n",
    "            page = page + 1\n",
    "        else:\n",
    "            break\n",
    "            \n",
    "    return results"
   ]
  },
  {
   "cell_type": "code",
   "execution_count": null,
   "metadata": {},
   "outputs": [],
   "source": [
    "#if sufficient Memory \n",
    "if __name__ == '__main__':\n",
    "    pool = Pool(processes=5)\n",
    "    \n",
    "    postal_codes = range(0, 1000000)\n",
    "    postal_codes = ['{0:06d}'.format(p) for p in postal_codes]\n",
    "    #postal_codes = [\"119619\",\"119620\",\"499933\",\"610410\",\"225810\",\"903808\",\"307643\",\"828273\"]\n",
    "\n",
    "    all_buildings = pool.map(pcode_to_data, postal_codes)\n",
    "    all_buildings.sort(key=lambda b: (b['POSTAL'], b['SEARCHVAL']))\n",
    "\n",
    "    jstr = json.dumps([y for x in all_buildings for y in x], indent=2, sort_keys=True)\n",
    "\n",
    "    with open('address_list.json', 'w') as f:\n",
    "        f.write(jstr.encode('utf-8'))"
   ]
  },
  {
   "cell_type": "code",
   "execution_count": 7,
   "metadata": {},
   "outputs": [
    {
     "name": "stdout",
     "output_type": "stream",
     "text": [
      "{'SEARCHVAL': '29 HENG MUI KENG TERRACE SINGAPORE 119620', 'BLK_NO': '29', 'ROAD_NAME': 'HENG MUI KENG TERRACE', 'BUILDING': 'NIL', 'ADDRESS': '29 HENG MUI KENG TERRACE SINGAPORE 119620', 'POSTAL': '119620', 'X': '21782.91399', 'Y': '30463.31192', 'LATITUDE': '1.291773265', 'LONGITUDE': '103.7774555', 'LONGTITUDE': '103.7774555'}\n",
      "{'SEARCHVAL': 'ENERGY STUDIES INSTITUTE', 'BLK_NO': '29', 'ROAD_NAME': 'HENG MUI KENG TERRACE', 'BUILDING': 'ENERGY STUDIES INSTITUTE', 'ADDRESS': '29 HENG MUI KENG TERRACE ENERGY STUDIES INSTITUTE SINGAPORE 119620', 'POSTAL': '119620', 'X': '21787.01932', 'Y': '30331.1135', 'LATITUDE': '1.29057771', 'LONGITUDE': '103.77749240000001', 'LONGTITUDE': '103.77749240000001'}\n",
      "{'SEARCHVAL': 'WORLD INTELLECTUAL PROPERTY ORGANISATION', 'BLK_NO': '29', 'ROAD_NAME': 'HENG MUI KENG TERRACE', 'BUILDING': 'WORLD INTELLECTUAL PROPERTY ORGANISATION', 'ADDRESS': '29 HENG MUI KENG TERRACE WORLD INTELLECTUAL PROPERTY ORGANISATION SINGAPORE 119620', 'POSTAL': '119620', 'X': '21844.57937', 'Y': '30392.96473', 'LATITUDE': '1.291137082', 'LONGITUDE': '103.77800959999999', 'LONGTITUDE': '103.77800959999999'}\n",
      "{'SEARCHVAL': '47 ABINGDON ROAD SINGAPORE 499933', 'BLK_NO': '47', 'ROAD_NAME': 'ABINGDON ROAD', 'BUILDING': 'NIL', 'ADDRESS': '47 ABINGDON ROAD SINGAPORE 499933', 'POSTAL': '499933', 'X': '44274.67891', 'Y': '38876.47702', 'LATITUDE': '1.3678550859999998', 'LONGITUDE': '103.9795577', 'LONGTITUDE': '103.9795577'}\n",
      "{'SEARCHVAL': '264 UPPER THOMSON ROAD SINGAPORE 574391', 'BLK_NO': '264', 'ROAD_NAME': 'UPPER THOMSON ROAD', 'BUILDING': 'NIL', 'ADDRESS': '264 UPPER THOMSON ROAD SINGAPORE 574391', 'POSTAL': '574391', 'X': '27944.55617', 'Y': '37439.53113', 'LATITUDE': '1.354864342', 'LONGITUDE': '103.8328204', 'LONGTITUDE': '103.8328204'}\n",
      "{'SEARCHVAL': 'TOA PAYOH VISTA', 'BLK_NO': '66', 'ROAD_NAME': 'LORONG 4 TOA PAYOH', 'BUILDING': 'TOA PAYOH VISTA', 'ADDRESS': '66 LORONG 4 TOA PAYOH TOA PAYOH VISTA SINGAPORE 310066', 'POSTAL': '310066', 'X': '30054.3841', 'Y': '35244.5149', 'LATITUDE': '1.335013326', 'LONGITUDE': '103.85177840000001', 'LONGTITUDE': '103.85177840000001'}\n"
     ]
    }
   ],
   "source": [
    "#if no sufficient memory\n",
    "if __name__ == '__main__':\n",
    "    #postal_codes = range(0, 1000000)\n",
    "    #postal_codes = ['{0:06d}'.format(p) for p in postal_codes]\n",
    "    postal_codes = [\"119619\",\"119620\",\"499933\",\"610410\",\"225810\",\"903808\",\"307643\",\"828273\",\" 574391\",\"310066\"]\n",
    "\n",
    "    first = True\n",
    "\n",
    "    with open('address_list.json', 'w') as f:\n",
    "        for p in postal_codes:\n",
    "          buildings = pcode_to_data(p)\n",
    "          buildings.sort(key=lambda x: x['SEARCHVAL'])\n",
    "\n",
    "          for building in buildings:\n",
    "            if first:\n",
    "              f.write('[\\n')\n",
    "              first = False\n",
    "            else:\n",
    "              f.write(',\\n')\n",
    "            print (building)\n",
    "            f.write(re.sub('^', '  ', json.dumps(building, indent=2, sort_keys=True), flags=re.MULTILINE))\n",
    "\n",
    "        f.write(']')"
   ]
  },
  {
   "cell_type": "markdown",
   "metadata": {},
   "source": [
    "<h4> Script for Zip Code </h4>"
   ]
  },
  {
   "cell_type": "code",
   "execution_count": null,
   "metadata": {},
   "outputs": [],
   "source": [
    "#script to import all zip codes \n",
    "#t.close()\n",
    "t.init(visual_automation = True)\n",
    "\n",
    "with open('zipcode_list.csv', 'w', newline='',encoding=\"utf-8\") as file: #create csv file \n",
    "    writer = csv.writer(file,delimiter=',')\n",
    "    writer.writerow([ \"Sno\",\"Postal Code\",\"Region\"]) #create header\n",
    "    sno = 0\n",
    "    for i in range(0,1300):\n",
    "        if i==0:\n",
    "            t.url('https://sgp.postcodebase.com/all')\n",
    "            t.wait(5)\n",
    "        else:\n",
    "            t.url(f'https://sgp.postcodebase.com/all?page={i}')\n",
    "            t.wait(5)\n",
    "        \n",
    "        if t.present('//tbody//td'):\n",
    "            total_items = int(t.count('//tbody//tr'))\n",
    "            for j in range(1,total_items+1):\n",
    "                d_temp =[]\n",
    "                code = t.read(f'//tbody//tr[{j}]/td[1]')\n",
    "                area = t.read(f'//tbody//tr[{j}]/td[2]')\n",
    "                sno += 1\n",
    "                d_temp = [sno,code, area]\n",
    "                writer.writerow(d_temp) #write to csv file\n",
    "                print (d_temp)\n",
    "        else:\n",
    "            break\n",
    "t.close()"
   ]
  }
 ],
 "metadata": {
  "kernelspec": {
   "display_name": "Python 3",
   "language": "python",
   "name": "python3"
  },
  "language_info": {
   "codemirror_mode": {
    "name": "ipython",
    "version": 3
   },
   "file_extension": ".py",
   "mimetype": "text/x-python",
   "name": "python",
   "nbconvert_exporter": "python",
   "pygments_lexer": "ipython3",
   "version": "3.8.2"
  }
 },
 "nbformat": 4,
 "nbformat_minor": 2
}
