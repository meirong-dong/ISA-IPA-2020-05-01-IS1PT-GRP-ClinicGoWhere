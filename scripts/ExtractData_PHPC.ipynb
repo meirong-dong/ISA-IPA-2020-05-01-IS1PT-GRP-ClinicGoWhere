{
 "cells": [
  {
   "cell_type": "code",
   "execution_count": null,
   "metadata": {},
   "outputs": [],
   "source": [
    "import tagui as t\n",
    "import math\n",
    "import csv"
   ]
  },
  {
   "cell_type": "code",
   "execution_count": null,
   "metadata": {},
   "outputs": [],
   "source": [
    "#import the whole clinic list from MOH HCI\n",
    "t.init(visual_automation = True)\n",
    "t.url('https://www.flugowhere.gov.sg/?searchValue=&tab=1')"
   ]
  },
  {
   "cell_type": "code",
   "execution_count": null,
   "metadata": {},
   "outputs": [],
   "source": [
    "t.click('//button[@data-type=\"GPs\"]')\n",
    "total_items = int(t.read('//*[@id=\"root\"]//div[@class=\"font-bold mb-5\"]').split(' ')[1].replace(',',''))\n",
    "print(total_items)"
   ]
  },
  {
   "cell_type": "code",
   "execution_count": null,
   "metadata": {},
   "outputs": [],
   "source": [
    "#script last run on 14 April 2020\n",
    "with open('phpc_clinic.csv', 'w', newline='',encoding=\"utf-8\") as file: #create csv file \n",
    "    writer = csv.writer(file,delimiter=',')\n",
    "    writer.writerow([\"Sno\", \"Name\",\"Address\"]) #create header\n",
    "    \n",
    "    for i in range(1,total_items+1): \n",
    "        \n",
    "        if t.present(f'(//*[@id=\"root\"]//div[{i}]//div[@class=\"shadow\"]//div[@class=\"flex-1 font-semibold text-sm mb-2 mr-2\"])'):\n",
    "            name = t.read(f'(//*[@id=\"root\"]//div[{i}]//div[@class=\"shadow\"]//div[@class=\"flex-1 font-semibold text-sm mb-2 mr-2\"])')\n",
    "        else:\n",
    "            name = \"No clinic found\"\n",
    "        \n",
    "        if t.present(f'(//*[@id=\"root\"]//div[{i}]//div[@class=\"shadow\"]//button[1])'):\n",
    "            address = t.read(f'(//*[@id=\"root\"]//div[{i}]//div[@class=\"shadow\"]//button[1])')\n",
    "        else:\n",
    "            address = \"No address found\"\n",
    "        \n",
    "        d_temp = [i,name,address]\n",
    "        writer.writerow(d_temp) #write to csv file\n",
    "        print (d_temp)\n",
    "        \n",
    "        t.dom('window.scrollBy(0, 100)') #scroll the window\n",
    "        #t.keyboard('[pagedown]')\n",
    "        t.wait(2)"
   ]
  },
  {
   "cell_type": "code",
   "execution_count": null,
   "metadata": {},
   "outputs": [],
   "source": [
    "t.click('//button[@data-type=\"Polyclinics\"]')\n",
    "total_items = int(t.read('//*[@id=\"root\"]//div[@class=\"font-bold mb-5\"]').split(' ')[1].replace(',',''))\n",
    "print(total_items)"
   ]
  },
  {
   "cell_type": "code",
   "execution_count": null,
   "metadata": {},
   "outputs": [],
   "source": [
    "#script last run on \n",
    "with open('phpc_polyclinic.csv', 'w', newline='',encoding=\"utf-8\") as file: #create csv file \n",
    "    writer = csv.writer(file,delimiter=',')\n",
    "    writer.writerow([\"Sno\", \"Name\",\"Address\"]) #create header\n",
    "    \n",
    "    for i in range(1,total_items+1): \n",
    "        \n",
    "        if t.present(f'(//*[@id=\"root\"]//div[{i}]//div[@class=\"shadow\"]//div[@class=\"flex-1 font-semibold text-sm mb-2 mr-2\"])'):\n",
    "            name = t.read(f'(//*[@id=\"root\"]//div[{i}]//div[@class=\"shadow\"]//div[@class=\"flex-1 font-semibold text-sm mb-2 mr-2\"])')\n",
    "        else:\n",
    "            name = \"No clinic found\"\n",
    "        \n",
    "        if t.present(f'(//*[@id=\"root\"]//div[{i}]//div[@class=\"shadow\"]//button[1])'):\n",
    "            address = t.read(f'(//*[@id=\"root\"]//div[{i}]//div[@class=\"shadow\"]//button[1])')\n",
    "        else:\n",
    "            address = \"No address found\"\n",
    "        \n",
    "        d_temp = [i,name,address]\n",
    "        writer.writerow(d_temp) #write to csv file\n",
    "        print (d_temp)\n",
    "        \n",
    "        t.dom('window.scrollBy(0, 100)') #scroll the window\n",
    "        #t.keyboard('[pagedown]')\n",
    "        t.wait(2)"
   ]
  },
  {
   "cell_type": "code",
   "execution_count": null,
   "metadata": {},
   "outputs": [],
   "source": []
  }
 ],
 "metadata": {
  "kernelspec": {
   "display_name": "Python 3",
   "language": "python",
   "name": "python3"
  },
  "language_info": {
   "codemirror_mode": {
    "name": "ipython",
    "version": 3
   },
   "file_extension": ".py",
   "mimetype": "text/x-python",
   "name": "python",
   "nbconvert_exporter": "python",
   "pygments_lexer": "ipython3",
   "version": "3.8.2"
  }
 },
 "nbformat": 4,
 "nbformat_minor": 2
}
